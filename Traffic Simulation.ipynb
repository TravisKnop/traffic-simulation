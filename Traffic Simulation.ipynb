{
 "cells": [
  {
   "cell_type": "markdown",
   "metadata": {},
   "source": [
    "# Notes\n",
    "This created some unexpected results. When all cars begin at their desired speed (33 m/s), this simulation showed very few traffic problems. When starting at a lower speed, there was more clustering of cars.\n",
    "\n",
    "I suspect a problem with this simulation is that the car_locations and list_of_cars do not properly update at the beginning of each time slice (i.e. - a new set of car locations is produced, but those cars may not \"remember\" their speed from the previous round).\n",
    "\n",
    "The functional parts of this at the bottom of the first cell are admittedly sloppy/redundant, and should be cleaned up when possible."
   ]
  },
  {
   "cell_type": "markdown",
   "metadata": {},
   "source": [
    "# Results\n",
    "When starting from a speed of 25 m/s, the eventual average speed is between 26 and 27 m/s. Mean speed + one standard deviation = 28.5 m/s, or 100 kph (65 mph)."
   ]
  },
  {
   "cell_type": "code",
   "execution_count": 215,
   "metadata": {
    "collapsed": false
   },
   "outputs": [
    {
     "name": "stdout",
     "output_type": "stream",
     "text": [
      "26.8\n",
      "1.81475434518\n"
     ]
    }
   ],
   "source": [
    "import random\n",
    "import numpy as np\n",
    "import matplotlib.pyplot as plt\n",
    "%matplotlib inline\n",
    "\n",
    "num_cars = 30  #number of cars per 1 km of road\n",
    "num_sec = 60   #number of seconds to run simulation for\n",
    "car_locations = np.linspace(0, 1000, num_cars, dtype = \"int64\", endpoint=False)\n",
    "time = 0\n",
    "\n",
    "class Car:\n",
    "    def __init__(self, location, pref_speed=33, accel_rate=2, decel_rate=2,\n",
    "                 decel_chance=0.1, speed=25, time=0):\n",
    "        self.pref_speed = pref_speed\n",
    "        self.accel_rate = accel_rate \n",
    "        self.decel_rate = decel_rate\n",
    "        self.decel_chance = decel_chance\n",
    "        self.speed = speed\n",
    "        self.location = location\n",
    "        self.time = time\n",
    "    #pref_speed is each drivers' desired speed without traffic, in m/s\n",
    "    #accel_rate and decel_rate are added to the car's speed when appropriate\n",
    "    #speed is current speed, in m/s\n",
    "    #location is the front bumper of the car, between 0 and 1000\n",
    "        \n",
    "    #checks the distance    \n",
    "    def get_distance(self):\n",
    "        if self.location > 1000:\n",
    "            self.location -= 1000\n",
    "        for i, self in enumerate(car_locations):\n",
    "            return car_locations[i+1] - 5 - car_locations[i]\n",
    "    \n",
    "    def adjust_speed(self):\n",
    "        if self.get_distance() < self.speed:\n",
    "            self.speed = car_ahead.speed\n",
    "            return self.speed\n",
    "        elif random.random() <= self.decel_chance:\n",
    "            self.speed -= self.decel_rate\n",
    "            return self.speed\n",
    "        elif self.speed < self.pref_speed:\n",
    "            self.speed += self.accel_rate\n",
    "            return self.speed\n",
    "        else: \n",
    "            pass\n",
    "            \n",
    "    def __str__(self, car_locations):\n",
    "        for x in car_locations:\n",
    "            return self.car_ahead\n",
    "        \n",
    "    def move_ahead(self):\n",
    "    #moves \n",
    "        if self.location + self.speed > 1000:\n",
    "            self.location += self.speed - 1000\n",
    "        elif self.speed > self.get_distance():\n",
    "            self.location += self.get_distance() - 6\n",
    "        else:\n",
    "            self.location += self.speed\n",
    "    \n",
    "list_of_cars = []\n",
    "for x in car_locations:\n",
    "    car = Car(x)\n",
    "    try:\n",
    "        car_ahead = Car(car_locations[x+1])\n",
    "    except:\n",
    "        car_ahead = Car(car_locations[0])\n",
    "    list_of_cars.append(car)\n",
    "\n",
    "def next_turn():\n",
    "    y = []\n",
    "    for x in list_of_cars:\n",
    "        x.adjust_speed()\n",
    "        x.move_ahead()\n",
    "        y.append(x.location)\n",
    "    return y\n",
    "    \n",
    "def again():\n",
    "    z = [car_locations]\n",
    "    for x in np.arange(num_sec-1):\n",
    "        z.append(next_turn())\n",
    "    return z\n",
    "\n",
    "all_speeds = []\n",
    "def get_mean_speed():\n",
    "    for x in list_of_cars:\n",
    "        all_speeds.append(x.speed)\n",
    "    return np.mean(all_speeds)\n",
    "\n",
    "def get_stddev_speed():\n",
    "    return np.std(all_speeds)\n",
    "\n",
    "#print(len(np.arange(num_sec)))\n",
    "all_positions = again()\n",
    "#print(all_positions)\n",
    "print(get_mean_speed())\n",
    "print(get_stddev_speed())"
   ]
  },
  {
   "cell_type": "code",
   "execution_count": 210,
   "metadata": {
    "collapsed": false
   },
   "outputs": [],
   "source": [
    "time_slices = [[x] * num_cars for x in range (num_sec)]\n",
    "for x in car_locations:\n",
    "    if x > 1000:\n",
    "        x -= 1000\n",
    "\n",
    "#print(len(time_slices))\n",
    "#print(len(all_positions))\n",
    "#print(all_positions[0])"
   ]
  },
  {
   "cell_type": "code",
   "execution_count": 187,
   "metadata": {
    "collapsed": false
   },
   "outputs": [
    {
     "data": {
      "image/png": "[encoded data removed]",
      "text/plain": [
       "<matplotlib.figure.Figure at 0x106c19da0>"
      ]
     },
     "metadata": {},
     "output_type": "display_data"
    }
   ],
   "source": [
    "plt.scatter(all_positions, time_slices, s=1)\n",
    "plt.xlabel(\"Location of Cars\")\n",
    "plt.ylabel(\"Time\")\n",
    "plt.title(\"Car Locations\")\n",
    "plt.xlim(0, 1000)\n",
    "plt.ylim(-1, num_sec)\n",
    "plt.show()"
   ]
  },
  {
   "cell_type": "code",
   "execution_count": null,
   "metadata": {
    "collapsed": true
   },
   "outputs": [],
   "source": []
  }
 ],
 "metadata": {
  "kernelspec": {
   "display_name": "Python 3",
   "language": "python",
   "name": "python3"
  },
  "language_info": {
   "codemirror_mode": {
    "name": "ipython",
    "version": 3
   },
   "file_extension": ".py",
   "mimetype": "text/x-python",
   "name": "python",
   "nbconvert_exporter": "python",
   "pygments_lexer": "ipython3",
   "version": "3.5.0"
  }
 },
 "nbformat": 4,
 "nbformat_minor": 0
}
